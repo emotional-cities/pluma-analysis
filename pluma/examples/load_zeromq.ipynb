{
 "cells": [
  {
   "cell_type": "code",
   "execution_count": 1,
   "metadata": {},
   "outputs": [],
   "source": [
    "import sys\n",
    "sys.path.append('../..')\n",
    "\n",
    "import matplotlib.pyplot as plt\n",
    "import datetime\n",
    "import tilemapbase as tmb\n",
    "import numpy as np\n",
    "\n",
    "from pluma.stream.georeference import Georeference\n",
    "from pluma.stream.ubx import _UBX_MSGIDS\n",
    "from pluma.stream.zeromq import ZeromqStream\n",
    "from pluma.stream.pupil import PupilStream\n",
    "\n",
    "## Notebook plotting\n",
    "%matplotlib inline\n",
    "plt.style.use('ggplot')\n",
    "\n",
    "## Figure export parameters\n",
    "new_rc_params = {'text.usetex': False,\n",
    "\"svg.fonttype\": 'none'\n",
    "}\n",
    "import matplotlib as mpl\n",
    "mpl.rcParams.update(new_rc_params)"
   ]
  },
  {
   "cell_type": "code",
   "execution_count": 4,
   "metadata": {},
   "outputs": [
    {
     "name": "stdout",
     "output_type": "stream",
     "text": [
      "                                       SensorId            Timestamp  \\\n",
      "0       b'fff19de7-fca2-45f1-b17e-0e1f1ce7709d'  1694101238821320321   \n",
      "1       b'fff19de7-fca2-45f1-b17e-0e1f1ce7709d'  1694101238825256321   \n",
      "2       b'fff19de7-fca2-45f1-b17e-0e1f1ce7709d'  1694101238829250321   \n",
      "3       b'fff19de7-fca2-45f1-b17e-0e1f1ce7709d'  1694101238833321321   \n",
      "4       b'fff19de7-fca2-45f1-b17e-0e1f1ce7709d'  1694101238841254321   \n",
      "...                                         ...                  ...   \n",
      "220566  b'fff19de7-fca2-45f1-b17e-0e1f1ce7709d'  1694102377673253321   \n",
      "220567  b'fff19de7-fca2-45f1-b17e-0e1f1ce7709d'  1694102377677249321   \n",
      "220568  b'fff19de7-fca2-45f1-b17e-0e1f1ce7709d'  1694102377681299321   \n",
      "220569  b'fff19de7-fca2-45f1-b17e-0e1f1ce7709d'  1694102377689239321   \n",
      "220570  b'fff19de7-fca2-45f1-b17e-0e1f1ce7709d'  1694102377693241321   \n",
      "\n",
      "             GazeX       GazeY  \n",
      "0       386.352997  399.203461  \n",
      "1       387.048218  400.661682  \n",
      "2       389.371185  400.790924  \n",
      "3       388.987030  400.898438  \n",
      "4       388.681427  400.141998  \n",
      "...            ...         ...  \n",
      "220566  330.310181  562.714783  \n",
      "220567  330.746918  562.986389  \n",
      "220568  330.737457  563.197266  \n",
      "220569  330.847137  562.509033  \n",
      "220570  330.160828  560.874329  \n",
      "\n",
      "[220571 rows x 4 columns]\n"
     ]
    }
   ],
   "source": [
    "stream_root_folder = 'C:/Users/neurogears/Downloads/Lansing_NorthNatural_sub-OE036001_2023-09-07T161930Z'\n",
    "\n",
    "# gaze_data = ZeromqStream(['PupilLabs/Gaze_Frame0.bin', 'PupilLabs/Gaze_Frame1.bin', 'PupilLabs/Gaze_Frame2.bin'],\n",
    "#                          [[('SensorId', np.string_, 36)], \n",
    "#                           [('Timestamp', np.uint64)], \n",
    "#                           [('GazeX', np.single), ('GazeY', np.single)]],\n",
    "#                           device='PupilLabs',\n",
    "#                           streamlabel='PupilLabs.Gaze.Data',\n",
    "#                           root=stream_root_folder, autoload=True,\n",
    "#                           parent_dataset=None)\n",
    "\n",
    "gaze_data = PupilStream(['PupilLabs/Gaze_Frame0.bin', 'PupilLabs/Gaze_Frame1.bin', 'PupilLabs/Gaze_Frame2.bin'],\n",
    "                        [('Timestamp', np.uint64)], \n",
    "                        [('GazeX', np.single), ('GazeY', np.single)],\n",
    "                        device='PupilLabs',\n",
    "                        streamlabel='PupilLabs.Gaze.Data',\n",
    "                        root=stream_root_folder, autoload=True,\n",
    "                        parent_dataset=None)\n",
    "\n",
    "print(gaze_data.data)"
   ]
  }
 ],
 "metadata": {
  "kernelspec": {
   "display_name": "Python 3",
   "language": "python",
   "name": "python3"
  },
  "language_info": {
   "codemirror_mode": {
    "name": "ipython",
    "version": 3
   },
   "file_extension": ".py",
   "mimetype": "text/x-python",
   "name": "python",
   "nbconvert_exporter": "python",
   "pygments_lexer": "ipython3",
   "version": "3.11.9"
  }
 },
 "nbformat": 4,
 "nbformat_minor": 2
}
