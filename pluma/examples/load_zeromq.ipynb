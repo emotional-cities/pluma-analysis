{
 "cells": [
  {
   "cell_type": "code",
   "execution_count": 1,
   "metadata": {},
   "outputs": [],
   "source": [
    "import sys\n",
    "sys.path.append('../..')\n",
    "\n",
    "import matplotlib.pyplot as plt\n",
    "import datetime\n",
    "import tilemapbase as tmb\n",
    "import numpy as np\n",
    "\n",
    "from pluma.stream.georeference import Georeference\n",
    "from pluma.stream.ubx import _UBX_MSGIDS\n",
    "from pluma.stream.zeromq import ZmqStream\n",
    "from pluma.stream.pupil import PupilGazeStream, PupilWorldCameraStream\n",
    "\n",
    "## Notebook plotting\n",
    "%matplotlib inline\n",
    "plt.style.use('ggplot')\n",
    "\n",
    "## Figure export parameters\n",
    "new_rc_params = {'text.usetex': False,\n",
    "\"svg.fonttype\": 'none'\n",
    "}\n",
    "import matplotlib as mpl\n",
    "mpl.rcParams.update(new_rc_params)"
   ]
  },
  {
   "cell_type": "code",
   "execution_count": 2,
   "metadata": {},
   "outputs": [
    {
     "name": "stdout",
     "output_type": "stream",
     "text": [
      "                                       SensorId            Timestamp   \n",
      "0       b'fff19de7-fca2-45f1-b17e-0e1f1ce7709d'  1694101238821320321  \\\n",
      "1       b'fff19de7-fca2-45f1-b17e-0e1f1ce7709d'  1694101238825256321   \n",
      "2       b'fff19de7-fca2-45f1-b17e-0e1f1ce7709d'  1694101238829250321   \n",
      "3       b'fff19de7-fca2-45f1-b17e-0e1f1ce7709d'  1694101238833321321   \n",
      "4       b'fff19de7-fca2-45f1-b17e-0e1f1ce7709d'  1694101238841254321   \n",
      "...                                         ...                  ...   \n",
      "220566  b'fff19de7-fca2-45f1-b17e-0e1f1ce7709d'  1694102377673253321   \n",
      "220567  b'fff19de7-fca2-45f1-b17e-0e1f1ce7709d'  1694102377677249321   \n",
      "220568  b'fff19de7-fca2-45f1-b17e-0e1f1ce7709d'  1694102377681299321   \n",
      "220569  b'fff19de7-fca2-45f1-b17e-0e1f1ce7709d'  1694102377689239321   \n",
      "220570  b'fff19de7-fca2-45f1-b17e-0e1f1ce7709d'  1694102377693241321   \n",
      "\n",
      "             GazeX       GazeY  \n",
      "0       386.352997  399.203461  \n",
      "1       387.048218  400.661682  \n",
      "2       389.371185  400.790924  \n",
      "3       388.987030  400.898438  \n",
      "4       388.681427  400.141998  \n",
      "...            ...         ...  \n",
      "220566  330.310181  562.714783  \n",
      "220567  330.746918  562.986389  \n",
      "220568  330.737457  563.197266  \n",
      "220569  330.847137  562.509033  \n",
      "220570  330.160828  560.874329  \n",
      "\n",
      "[220571 rows x 4 columns]\n",
      "                                      SensorId  Format  Width  Height   \n",
      "0      b'2c28ea33-3448-4f1a-8800-a7c64ed8a281'      18   1088    1080  \\\n",
      "1      b'2c28ea33-3448-4f1a-8800-a7c64ed8a281'      18   1088    1080   \n",
      "2      b'2c28ea33-3448-4f1a-8800-a7c64ed8a281'      18   1088    1080   \n",
      "3      b'2c28ea33-3448-4f1a-8800-a7c64ed8a281'      18   1088    1080   \n",
      "4      b'2c28ea33-3448-4f1a-8800-a7c64ed8a281'      18   1088    1080   \n",
      "...                                        ...     ...    ...     ...   \n",
      "34125  b'2c28ea33-3448-4f1a-8800-a7c64ed8a281'      18   1088    1080   \n",
      "34126  b'2c28ea33-3448-4f1a-8800-a7c64ed8a281'      18   1088    1080   \n",
      "34127  b'2c28ea33-3448-4f1a-8800-a7c64ed8a281'      18   1088    1080   \n",
      "34128  b'2c28ea33-3448-4f1a-8800-a7c64ed8a281'      18   1088    1080   \n",
      "34129  b'2c28ea33-3448-4f1a-8800-a7c64ed8a281'      18   1088    1080   \n",
      "\n",
      "       Sequence            Timestamp  DataBytes    Reserved  \n",
      "0         12263  1694101238853695321       9426  1567428555  \n",
      "1         12264  1694101238884999321       3954  2108672817  \n",
      "2         12265  1694101238923411321      10114   520618100  \n",
      "3         12266  1694101238952074321      10098  1514086799  \n",
      "4         12267  1694101238986756321      13250  1589943189  \n",
      "...         ...                  ...        ...         ...  \n",
      "34125     46438  1694102377546685321      10514  4243774847  \n",
      "34126     46439  1694102377579370321      10386   110727234  \n",
      "34127     46440  1694102377614119321      35826   236828108  \n",
      "34128     46441  1694102377644001321      15714  4216075594  \n",
      "34129     46442  1694102377679639321      12674  3834907014  \n",
      "\n",
      "[34130 rows x 8 columns]\n"
     ]
    }
   ],
   "source": [
    "stream_root_folder = 'C:/Users/erski/Downloads/Lansing_NorthNatural_sub-OE036001_2023-09-07T161930Z/Lansing_NorthNatural_sub-OE036001_2023-09-07T161930Z'\n",
    "\n",
    "gaze_data = PupilGazeStream(device='PupilLabs',\n",
    "                            streamlabel='PupilLabs.Gaze.Data',\n",
    "                            root=stream_root_folder, autoload=True,\n",
    "                            parent_dataset=None)\n",
    "\n",
    "camera_data = PupilWorldCameraStream(device='PupilLabs',\n",
    "                            streamlabel='PupilLabs.WorldCamera.Data',\n",
    "                            root=stream_root_folder, autoload=True,\n",
    "                            parent_dataset=None)\n",
    "\n",
    "print(gaze_data.data)\n",
    "print(camera_data.data)"
   ]
  }
 ],
 "metadata": {
  "kernelspec": {
   "display_name": "Python 3",
   "language": "python",
   "name": "python3"
  },
  "language_info": {
   "codemirror_mode": {
    "name": "ipython",
    "version": 3
   },
   "file_extension": ".py",
   "mimetype": "text/x-python",
   "name": "python",
   "nbconvert_exporter": "python",
   "pygments_lexer": "ipython3",
   "version": "3.10.10"
  }
 },
 "nbformat": 4,
 "nbformat_minor": 2
}
