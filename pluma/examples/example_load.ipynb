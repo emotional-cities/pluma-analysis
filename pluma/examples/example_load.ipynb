{
 "cells": [
  {
   "cell_type": "code",
   "execution_count": 1,
   "metadata": {},
   "outputs": [],
   "source": [
    "import sys\n",
    "sys.path.append('..\\..')\n",
    "\n",
    "import matplotlib.pyplot as plt\n",
    "import datetime\n",
    "import tilemapbase as tmb\n",
    "import numpy as np\n",
    "import pandas as pd\n",
    "from pluma.stream.georeference import Georeference\n",
    "from pluma.stream.ubx import _UBX_MSGIDS\n",
    "from pluma.schema import Dataset\n",
    "from IPython.display import clear_output\n",
    "from pluma.schema import outdoor\n",
    "\n",
    "plt.style.use('ggplot')\n",
    "\n",
    "## Figure export parameters\n",
    "new_rc_params = {'text.usetex': False,\n",
    "\"svg.fonttype\": 'none'\n",
    "}\n",
    "import matplotlib as mpl\n",
    "mpl.rcParams.update(new_rc_params)"
   ]
  },
  {
   "cell_type": "code",
   "execution_count": 2,
   "metadata": {},
   "outputs": [
    {
     "name": "stderr",
     "output_type": "stream",
     "text": [
      "c:\\Users\\neurogears\\source\\repos\\emotional-cities\\pluma-analysis\\pluma\\examples\\..\\..\\pluma\\io\\harp.py:44: UserWarning: Harp stream file            @(WIN) --> C:\\Users\\erski\\Downloads\\Lansing_NorthNatural_sub-OE036001_2023-09-07T161930Z\\Lansing_NorthNatural_sub-OE036001_2023-09-07T161930Z\\Streams_209 could not be found.\n",
      "  warnings.warn(f'Harp stream file\\\n",
      "c:\\Users\\neurogears\\source\\repos\\emotional-cities\\pluma-analysis\\pluma\\examples\\..\\..\\pluma\\io\\harp.py:44: UserWarning: Harp stream file            @(WIN) --> C:\\Users\\erski\\Downloads\\Lansing_NorthNatural_sub-OE036001_2023-09-07T161930Z\\Lansing_NorthNatural_sub-OE036001_2023-09-07T161930Z\\Streams_210 could not be found.\n",
      "  warnings.warn(f'Harp stream file\\\n",
      "c:\\Users\\neurogears\\source\\repos\\emotional-cities\\pluma-analysis\\pluma\\examples\\..\\..\\pluma\\io\\harp.py:44: UserWarning: Harp stream file            @(WIN) --> C:\\Users\\erski\\Downloads\\Lansing_NorthNatural_sub-OE036001_2023-09-07T161930Z\\Lansing_NorthNatural_sub-OE036001_2023-09-07T161930Z\\Streams_211 could not be found.\n",
      "  warnings.warn(f'Harp stream file\\\n",
      "c:\\Users\\neurogears\\source\\repos\\emotional-cities\\pluma-analysis\\pluma\\examples\\..\\..\\pluma\\io\\harp.py:44: UserWarning: Harp stream file            @(WIN) --> C:\\Users\\erski\\Downloads\\Lansing_NorthNatural_sub-OE036001_2023-09-07T161930Z\\Lansing_NorthNatural_sub-OE036001_2023-09-07T161930Z\\Streams_212 could not be found.\n",
      "  warnings.warn(f'Harp stream file\\\n",
      "c:\\Users\\neurogears\\source\\repos\\emotional-cities\\pluma-analysis\\pluma\\examples\\..\\..\\pluma\\io\\harp.py:44: UserWarning: Harp stream file            @(WIN) --> C:\\Users\\erski\\Downloads\\Lansing_NorthNatural_sub-OE036001_2023-09-07T161930Z\\Lansing_NorthNatural_sub-OE036001_2023-09-07T161930Z\\Streams_213 could not be found.\n",
      "  warnings.warn(f'Harp stream file\\\n",
      "c:\\Users\\neurogears\\source\\repos\\emotional-cities\\pluma-analysis\\pluma\\examples\\..\\..\\pluma\\io\\harp.py:44: UserWarning: Harp stream file            @(WIN) --> C:\\Users\\erski\\Downloads\\Lansing_NorthNatural_sub-OE036001_2023-09-07T161930Z\\Lansing_NorthNatural_sub-OE036001_2023-09-07T161930Z\\Streams_214 could not be found.\n",
      "  warnings.warn(f'Harp stream file\\\n",
      "c:\\Users\\neurogears\\source\\repos\\emotional-cities\\pluma-analysis\\pluma\\examples\\..\\..\\pluma\\io\\pupil.py:38: UserWarning: Pupil stream file could not be found.\n",
      "  warnings.warn(f'Pupil stream file could not be found.')\n"
     ]
    },
    {
     "ename": "UnboundLocalError",
     "evalue": "cannot access local variable 'sensor_id_df' where it is not associated with a value",
     "output_type": "error",
     "traceback": [
      "\u001b[1;31m---------------------------------------------------------------------------\u001b[0m",
      "\u001b[1;31mUnboundLocalError\u001b[0m                         Traceback (most recent call last)",
      "Cell \u001b[1;32mIn[2], line 11\u001b[0m\n\u001b[0;32m      4\u001b[0m dataset \u001b[38;5;241m=\u001b[39m Dataset(\n\u001b[0;32m      5\u001b[0m     stream_root_folder,\n\u001b[0;32m      6\u001b[0m     datasetlabel\u001b[38;5;241m=\u001b[39m\u001b[38;5;124m\"\u001b[39m\u001b[38;5;124mExample\u001b[39m\u001b[38;5;124m\"\u001b[39m,\n\u001b[0;32m      7\u001b[0m     georeference\u001b[38;5;241m=\u001b[39m Georeference(),\n\u001b[0;32m      8\u001b[0m     schema\u001b[38;5;241m=\u001b[39moutdoor\u001b[38;5;241m.\u001b[39mbuild_schema)\n\u001b[0;32m      9\u001b[0m dataset\u001b[38;5;241m.\u001b[39mpopulate_streams(autoload\u001b[38;5;241m=\u001b[39m\u001b[38;5;28;01mFalse\u001b[39;00m)  \u001b[38;5;66;03m# Add the \"schema\" that we want to load to our Dataset. If we want to load the whole dataset automatically, set autoload to True.\u001b[39;00m\n\u001b[1;32m---> 11\u001b[0m \u001b[43mdataset\u001b[49m\u001b[38;5;241;43m.\u001b[39;49m\u001b[43mreload_streams\u001b[49m\u001b[43m(\u001b[49m\u001b[43mforce_load\u001b[49m\u001b[38;5;241;43m=\u001b[39;49m\u001b[38;5;28;43;01mTrue\u001b[39;49;00m\u001b[43m)\u001b[49m  \u001b[38;5;66;03m# We will just load every single stream at the same time. This might take a while if loading from AWS\u001b[39;00m\n\u001b[0;32m     12\u001b[0m dataset\u001b[38;5;241m.\u001b[39madd_georeference_and_calibrate()\n\u001b[0;32m     13\u001b[0m dataset\u001b[38;5;241m.\u001b[39mexport_dataset(filename\u001b[38;5;241m=\u001b[39m\u001b[38;5;124mf\u001b[39m\u001b[38;5;124m\"\u001b[39m\u001b[38;5;132;01m{\u001b[39;00mroot\u001b[38;5;132;01m}\u001b[39;00m\u001b[38;5;124m\\\u001b[39m\u001b[38;5;124mdataset.pickle\u001b[39m\u001b[38;5;124m\"\u001b[39m) \u001b[38;5;66;03m# We can export the dataset as a .pickle file.\u001b[39;00m\n",
      "File \u001b[1;32mc:\\Users\\neurogears\\source\\repos\\emotional-cities\\pluma-analysis\\pluma\\examples\\..\\..\\pluma\\schema\\__init__.py:111\u001b[0m, in \u001b[0;36mDataset.reload_streams\u001b[1;34m(self, schema, force_load)\u001b[0m\n\u001b[0;32m    109\u001b[0m \u001b[38;5;28;01melif\u001b[39;00m \u001b[38;5;28misinstance\u001b[39m(schema, DotMap):\n\u001b[0;32m    110\u001b[0m     \u001b[38;5;28;01mfor\u001b[39;00m _stream \u001b[38;5;129;01min\u001b[39;00m schema\u001b[38;5;241m.\u001b[39mvalues():\n\u001b[1;32m--> 111\u001b[0m         \u001b[38;5;28;43mself\u001b[39;49m\u001b[38;5;241;43m.\u001b[39;49m\u001b[43mreload_streams\u001b[49m\u001b[43m(\u001b[49m\u001b[43m_stream\u001b[49m\u001b[43m,\u001b[49m\u001b[43m \u001b[49m\u001b[43mforce_load\u001b[49m\u001b[38;5;241;43m=\u001b[39;49m\u001b[43mforce_load\u001b[49m\u001b[43m)\u001b[49m\n\u001b[0;32m    112\u001b[0m \u001b[38;5;28;01melse\u001b[39;00m:\n\u001b[0;32m    113\u001b[0m     \u001b[38;5;28;01mraise\u001b[39;00m \u001b[38;5;167;01mTypeError\u001b[39;00m(\u001b[38;5;124mf\u001b[39m\u001b[38;5;124m\"\u001b[39m\u001b[38;5;124mInvalid type was found. Must be of \u001b[39m\u001b[38;5;130;01m\\\u001b[39;00m\n\u001b[0;32m    114\u001b[0m \u001b[38;5;124m                    \u001b[39m\u001b[38;5;132;01m{\u001b[39;00mUnion[DotMap,\u001b[38;5;250m \u001b[39mStream]\u001b[38;5;132;01m}\u001b[39;00m\u001b[38;5;124m\"\u001b[39m)\n",
      "File \u001b[1;32mc:\\Users\\neurogears\\source\\repos\\emotional-cities\\pluma-analysis\\pluma\\examples\\..\\..\\pluma\\schema\\__init__.py:111\u001b[0m, in \u001b[0;36mDataset.reload_streams\u001b[1;34m(self, schema, force_load)\u001b[0m\n\u001b[0;32m    109\u001b[0m \u001b[38;5;28;01melif\u001b[39;00m \u001b[38;5;28misinstance\u001b[39m(schema, DotMap):\n\u001b[0;32m    110\u001b[0m     \u001b[38;5;28;01mfor\u001b[39;00m _stream \u001b[38;5;129;01min\u001b[39;00m schema\u001b[38;5;241m.\u001b[39mvalues():\n\u001b[1;32m--> 111\u001b[0m         \u001b[38;5;28;43mself\u001b[39;49m\u001b[38;5;241;43m.\u001b[39;49m\u001b[43mreload_streams\u001b[49m\u001b[43m(\u001b[49m\u001b[43m_stream\u001b[49m\u001b[43m,\u001b[49m\u001b[43m \u001b[49m\u001b[43mforce_load\u001b[49m\u001b[38;5;241;43m=\u001b[39;49m\u001b[43mforce_load\u001b[49m\u001b[43m)\u001b[49m\n\u001b[0;32m    112\u001b[0m \u001b[38;5;28;01melse\u001b[39;00m:\n\u001b[0;32m    113\u001b[0m     \u001b[38;5;28;01mraise\u001b[39;00m \u001b[38;5;167;01mTypeError\u001b[39;00m(\u001b[38;5;124mf\u001b[39m\u001b[38;5;124m\"\u001b[39m\u001b[38;5;124mInvalid type was found. Must be of \u001b[39m\u001b[38;5;130;01m\\\u001b[39;00m\n\u001b[0;32m    114\u001b[0m \u001b[38;5;124m                    \u001b[39m\u001b[38;5;132;01m{\u001b[39;00mUnion[DotMap,\u001b[38;5;250m \u001b[39mStream]\u001b[38;5;132;01m}\u001b[39;00m\u001b[38;5;124m\"\u001b[39m)\n",
      "File \u001b[1;32mc:\\Users\\neurogears\\source\\repos\\emotional-cities\\pluma-analysis\\pluma\\examples\\..\\..\\pluma\\schema\\__init__.py:111\u001b[0m, in \u001b[0;36mDataset.reload_streams\u001b[1;34m(self, schema, force_load)\u001b[0m\n\u001b[0;32m    109\u001b[0m \u001b[38;5;28;01melif\u001b[39;00m \u001b[38;5;28misinstance\u001b[39m(schema, DotMap):\n\u001b[0;32m    110\u001b[0m     \u001b[38;5;28;01mfor\u001b[39;00m _stream \u001b[38;5;129;01min\u001b[39;00m schema\u001b[38;5;241m.\u001b[39mvalues():\n\u001b[1;32m--> 111\u001b[0m         \u001b[38;5;28;43mself\u001b[39;49m\u001b[38;5;241;43m.\u001b[39;49m\u001b[43mreload_streams\u001b[49m\u001b[43m(\u001b[49m\u001b[43m_stream\u001b[49m\u001b[43m,\u001b[49m\u001b[43m \u001b[49m\u001b[43mforce_load\u001b[49m\u001b[38;5;241;43m=\u001b[39;49m\u001b[43mforce_load\u001b[49m\u001b[43m)\u001b[49m\n\u001b[0;32m    112\u001b[0m \u001b[38;5;28;01melse\u001b[39;00m:\n\u001b[0;32m    113\u001b[0m     \u001b[38;5;28;01mraise\u001b[39;00m \u001b[38;5;167;01mTypeError\u001b[39;00m(\u001b[38;5;124mf\u001b[39m\u001b[38;5;124m\"\u001b[39m\u001b[38;5;124mInvalid type was found. Must be of \u001b[39m\u001b[38;5;130;01m\\\u001b[39;00m\n\u001b[0;32m    114\u001b[0m \u001b[38;5;124m                    \u001b[39m\u001b[38;5;132;01m{\u001b[39;00mUnion[DotMap,\u001b[38;5;250m \u001b[39mStream]\u001b[38;5;132;01m}\u001b[39;00m\u001b[38;5;124m\"\u001b[39m)\n",
      "File \u001b[1;32mc:\\Users\\neurogears\\source\\repos\\emotional-cities\\pluma-analysis\\pluma\\examples\\..\\..\\pluma\\schema\\__init__.py:105\u001b[0m, in \u001b[0;36mDataset.reload_streams\u001b[1;34m(self, schema, force_load)\u001b[0m\n\u001b[0;32m    103\u001b[0m \u001b[38;5;28;01mif\u001b[39;00m \u001b[38;5;28misinstance\u001b[39m(schema, Stream):\n\u001b[0;32m    104\u001b[0m     \u001b[38;5;28;01mif\u001b[39;00m force_load \u001b[38;5;129;01mis\u001b[39;00m \u001b[38;5;28;01mTrue\u001b[39;00m:\n\u001b[1;32m--> 105\u001b[0m         \u001b[43mschema\u001b[49m\u001b[38;5;241;43m.\u001b[39;49m\u001b[43mload\u001b[49m\u001b[43m(\u001b[49m\u001b[43m)\u001b[49m\n\u001b[0;32m    106\u001b[0m     \u001b[38;5;28;01melse\u001b[39;00m:\n\u001b[0;32m    107\u001b[0m         \u001b[38;5;28;01mif\u001b[39;00m schema\u001b[38;5;241m.\u001b[39mautoload \u001b[38;5;129;01mis\u001b[39;00m \u001b[38;5;28;01mTrue\u001b[39;00m:\n",
      "File \u001b[1;32mc:\\Users\\neurogears\\source\\repos\\emotional-cities\\pluma-analysis\\pluma\\examples\\..\\..\\pluma\\stream\\pupil.py:29\u001b[0m, in \u001b[0;36mPupilStream.load\u001b[1;34m(self)\u001b[0m\n\u001b[0;32m     28\u001b[0m \u001b[38;5;28;01mdef\u001b[39;00m \u001b[38;5;21mload\u001b[39m(\u001b[38;5;28mself\u001b[39m):\n\u001b[1;32m---> 29\u001b[0m     \u001b[38;5;28mself\u001b[39m\u001b[38;5;241m.\u001b[39mdata \u001b[38;5;241m=\u001b[39m \u001b[43mload_pupil\u001b[49m\u001b[43m(\u001b[49m\u001b[38;5;28;43mself\u001b[39;49m\u001b[38;5;241;43m.\u001b[39;49m\u001b[43mfilename\u001b[49m\u001b[43m,\u001b[49m\u001b[43m \u001b[49m\u001b[38;5;28;43mself\u001b[39;49m\u001b[38;5;241;43m.\u001b[39;49m\u001b[43mdtypes\u001b[49m\u001b[43m,\u001b[49m\u001b[43m \u001b[49m\u001b[43mroot\u001b[49m\u001b[38;5;241;43m=\u001b[39;49m\u001b[38;5;28;43mself\u001b[39;49m\u001b[38;5;241;43m.\u001b[39;49m\u001b[43mrootfolder\u001b[49m\u001b[43m)\u001b[49m\n",
      "File \u001b[1;32mc:\\Users\\neurogears\\source\\repos\\emotional-cities\\pluma-analysis\\pluma\\examples\\..\\..\\pluma\\io\\pupil.py:42\u001b[0m, in \u001b[0;36mload_pupil\u001b[1;34m(filename, dtypes, root)\u001b[0m\n\u001b[0;32m     39\u001b[0m \u001b[38;5;28;01mexcept\u001b[39;00m \u001b[38;5;167;01mFileExistsError\u001b[39;00m:\n\u001b[0;32m     40\u001b[0m     warnings\u001b[38;5;241m.\u001b[39mwarn(\u001b[38;5;124mf\u001b[39m\u001b[38;5;124m'\u001b[39m\u001b[38;5;124mPupil stream file could not be found.\u001b[39m\u001b[38;5;124m'\u001b[39m)\n\u001b[1;32m---> 42\u001b[0m \u001b[38;5;28mprint\u001b[39m(pd\u001b[38;5;241m.\u001b[39mconcat([\u001b[43msensor_id_df\u001b[49m, data_header_df, data_df], axis\u001b[38;5;241m=\u001b[39m\u001b[38;5;241m1\u001b[39m))\n\u001b[0;32m     43\u001b[0m \u001b[38;5;28;01mreturn\u001b[39;00m pd\u001b[38;5;241m.\u001b[39mconcat([sensor_id_df, data_header_df, data_df], axis\u001b[38;5;241m=\u001b[39m\u001b[38;5;241m1\u001b[39m)\n",
      "\u001b[1;31mUnboundLocalError\u001b[0m: cannot access local variable 'sensor_id_df' where it is not associated with a value"
     ]
    }
   ],
   "source": [
    "stream_root_folder = 'C:/Users/neurogears/Downloads/Lansing_NorthNatural_sub-OE036001_2023-09-07T161930Z'\n",
    "root = r\"C:/Users/neurogears/Desktop\"\n",
    "\n",
    "dataset = Dataset(\n",
    "    stream_root_folder,\n",
    "    datasetlabel=\"Example\",\n",
    "    georeference= Georeference(),\n",
    "    schema=outdoor.build_schema)\n",
    "dataset.populate_streams(autoload=False)  # Add the \"schema\" that we want to load to our Dataset. If we want to load the whole dataset automatically, set autoload to True.\n",
    "\n",
    "dataset.reload_streams(force_load=True)  # We will just load every single stream at the same time. This might take a while if loading from AWS\n",
    "dataset.add_georeference_and_calibrate()\n",
    "dataset.export_dataset(filename=f\"{root}\\dataset.pickle\") # We can export the dataset as a .pickle file."
   ]
  }
 ],
 "metadata": {
  "kernelspec": {
   "display_name": "Python 3",
   "language": "python",
   "name": "python3"
  },
  "language_info": {
   "codemirror_mode": {
    "name": "ipython",
    "version": 3
   },
   "file_extension": ".py",
   "mimetype": "text/x-python",
   "name": "python",
   "nbconvert_exporter": "python",
   "pygments_lexer": "ipython3",
   "version": "3.11.9"
  }
 },
 "nbformat": 4,
 "nbformat_minor": 2
}
