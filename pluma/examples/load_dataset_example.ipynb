{
 "cells": [
  {
   "cell_type": "code",
   "execution_count": 1,
   "metadata": {},
   "outputs": [],
   "source": [
    "import matplotlib.pyplot as plt\n",
    "import datetime\n",
    "import tilemapbase as tmb\n",
    "import numpy as np\n",
    "import pandas as pd\n",
    "from pluma.stream.georeference import Georeference\n",
    "from pluma.stream.ubx import _UBX_MSGIDS\n",
    "from pluma.schema import Dataset\n",
    "from IPython.display import clear_output\n",
    "from pluma.schema import outdoor\n",
    "\n",
    "## Notebook plotting\n",
    "%matplotlib inline\n",
    "%matplotlib widget\n",
    "\n",
    "plt.style.use('ggplot')\n",
    "\n",
    "## Figure export parameters\n",
    "new_rc_params = {'text.usetex': False,\n",
    "\"svg.fonttype\": 'none'\n",
    "}\n",
    "import matplotlib as mpl\n",
    "mpl.rcParams.update(new_rc_params)"
   ]
  },
  {
   "cell_type": "code",
   "execution_count": 2,
   "metadata": {},
   "outputs": [
    {
     "ename": "NameError",
     "evalue": "name 'PupilStream' is not defined",
     "output_type": "error",
     "traceback": [
      "\u001b[1;31m---------------------------------------------------------------------------\u001b[0m",
      "\u001b[1;31mNameError\u001b[0m                                 Traceback (most recent call last)",
      "Cell \u001b[1;32mIn[2], line 9\u001b[0m\n\u001b[0;32m      2\u001b[0m root \u001b[38;5;241m=\u001b[39m \u001b[38;5;124mr\u001b[39m\u001b[38;5;124m\"\u001b[39m\u001b[38;5;124mC:/Users/erski/Desktop\u001b[39m\u001b[38;5;124m\"\u001b[39m\n\u001b[0;32m      4\u001b[0m dataset \u001b[38;5;241m=\u001b[39m Dataset(\n\u001b[0;32m      5\u001b[0m     stream_root_folder,\n\u001b[0;32m      6\u001b[0m     datasetlabel\u001b[38;5;241m=\u001b[39m\u001b[38;5;124m\"\u001b[39m\u001b[38;5;124mExample\u001b[39m\u001b[38;5;124m\"\u001b[39m,\n\u001b[0;32m      7\u001b[0m     georeference\u001b[38;5;241m=\u001b[39m Georeference(),\n\u001b[0;32m      8\u001b[0m     schema\u001b[38;5;241m=\u001b[39moutdoor\u001b[38;5;241m.\u001b[39mbuild_schema)\n\u001b[1;32m----> 9\u001b[0m \u001b[43mdataset\u001b[49m\u001b[38;5;241;43m.\u001b[39;49m\u001b[43mpopulate_streams\u001b[49m\u001b[43m(\u001b[49m\u001b[43mautoload\u001b[49m\u001b[38;5;241;43m=\u001b[39;49m\u001b[38;5;28;43;01mFalse\u001b[39;49;00m\u001b[43m)\u001b[49m  \u001b[38;5;66;03m# Add the \"schema\" that we want to load to our Dataset. If we want to load the whole dataset automatically, set autoload to True.\u001b[39;00m\n\u001b[0;32m     11\u001b[0m dataset\u001b[38;5;241m.\u001b[39mreload_streams(force_load\u001b[38;5;241m=\u001b[39m\u001b[38;5;28;01mTrue\u001b[39;00m)  \u001b[38;5;66;03m# We will just load every single stream at the same time. This might take a while if loading from AWS\u001b[39;00m\n\u001b[0;32m     12\u001b[0m dataset\u001b[38;5;241m.\u001b[39madd_georeference_and_calibrate()\n",
      "File \u001b[1;32mc:\\users\\erski\\source\\repos\\pluma-analysis\\pluma\\schema\\__init__.py:187\u001b[0m, in \u001b[0;36mDataset.populate_streams\u001b[1;34m(self, root, autoload)\u001b[0m\n\u001b[0;32m    185\u001b[0m     root \u001b[38;5;241m=\u001b[39m ComplexPath(root)\n\u001b[0;32m    186\u001b[0m root \u001b[38;5;241m=\u001b[39m ensure_complexpath(root)\n\u001b[1;32m--> 187\u001b[0m \u001b[38;5;28mself\u001b[39m\u001b[38;5;241m.\u001b[39mstreams \u001b[38;5;241m=\u001b[39m \u001b[38;5;28;43mself\u001b[39;49m\u001b[38;5;241;43m.\u001b[39;49m\u001b[43mschema\u001b[49m\u001b[43m(\u001b[49m\n\u001b[0;32m    188\u001b[0m \u001b[43m    \u001b[49m\u001b[43mroot\u001b[49m\u001b[38;5;241;43m=\u001b[39;49m\u001b[43mroot\u001b[49m\u001b[43m,\u001b[49m\n\u001b[0;32m    189\u001b[0m \u001b[43m    \u001b[49m\u001b[43mparent_dataset\u001b[49m\u001b[38;5;241;43m=\u001b[39;49m\u001b[38;5;28;43mself\u001b[39;49m\u001b[43m,\u001b[49m\n\u001b[0;32m    190\u001b[0m \u001b[43m    \u001b[49m\u001b[43mautoload\u001b[49m\u001b[38;5;241;43m=\u001b[39;49m\u001b[43mautoload\u001b[49m\u001b[43m)\u001b[49m\n",
      "File \u001b[1;32mc:\\users\\erski\\source\\repos\\pluma-analysis\\pluma\\schema\\outdoor.py:109\u001b[0m, in \u001b[0;36mbuild_schema\u001b[1;34m(root, parent_dataset, autoload)\u001b[0m\n\u001b[0;32m    107\u001b[0m streams\u001b[38;5;241m.\u001b[39mPupilLabs\u001b[38;5;241m.\u001b[39mCounter\u001b[38;5;241m.\u001b[39mIMU \u001b[38;5;241m=\u001b[39m               HarpStream(\u001b[38;5;241m211\u001b[39m, device\u001b[38;5;241m=\u001b[39m\u001b[38;5;124m'\u001b[39m\u001b[38;5;124mPupilLabs\u001b[39m\u001b[38;5;124m'\u001b[39m, streamlabel\u001b[38;5;241m=\u001b[39m\u001b[38;5;124m'\u001b[39m\u001b[38;5;124mCounter_IMU\u001b[39m\u001b[38;5;124m'\u001b[39m, root\u001b[38;5;241m=\u001b[39mroot, autoload\u001b[38;5;241m=\u001b[39mautoload, parent_dataset\u001b[38;5;241m=\u001b[39mparent_dataset)\n\u001b[0;32m    108\u001b[0m streams\u001b[38;5;241m.\u001b[39mPupilLabs\u001b[38;5;241m.\u001b[39mCounter\u001b[38;5;241m.\u001b[39mGaze \u001b[38;5;241m=\u001b[39m              HarpStream(\u001b[38;5;241m212\u001b[39m, device\u001b[38;5;241m=\u001b[39m\u001b[38;5;124m'\u001b[39m\u001b[38;5;124mPupilLabs\u001b[39m\u001b[38;5;124m'\u001b[39m, streamlabel\u001b[38;5;241m=\u001b[39m\u001b[38;5;124m'\u001b[39m\u001b[38;5;124mCounter_Gaze\u001b[39m\u001b[38;5;124m'\u001b[39m, root\u001b[38;5;241m=\u001b[39mroot, autoload\u001b[38;5;241m=\u001b[39mautoload, parent_dataset\u001b[38;5;241m=\u001b[39mparent_dataset)\n\u001b[1;32m--> 109\u001b[0m streams\u001b[38;5;241m.\u001b[39mPupilLabs\u001b[38;5;241m.\u001b[39mData\u001b[38;5;241m.\u001b[39mGaze \u001b[38;5;241m=\u001b[39m                 \u001b[43mPupilStream\u001b[49m(\u001b[38;5;124m'\u001b[39m\u001b[38;5;124mPupilLabs/Gaze\u001b[39m\u001b[38;5;124m'\u001b[39m,\n\u001b[0;32m    110\u001b[0m                                                           [(\u001b[38;5;124m'\u001b[39m\u001b[38;5;124mSensorId\u001b[39m\u001b[38;5;124m'\u001b[39m, \u001b[38;5;28mstr\u001b[39m), (\u001b[38;5;124m'\u001b[39m\u001b[38;5;124mDataHeader\u001b[39m\u001b[38;5;124m'\u001b[39m, np\u001b[38;5;241m.\u001b[39mulonglong), (\u001b[38;5;124m'\u001b[39m\u001b[38;5;124mRawData\u001b[39m\u001b[38;5;124m'\u001b[39m, np\u001b[38;5;241m.\u001b[39mulonglong)],\n\u001b[0;32m    111\u001b[0m                                                           device\u001b[38;5;241m=\u001b[39m\u001b[38;5;124m'\u001b[39m\u001b[38;5;124mPupilLabs\u001b[39m\u001b[38;5;124m'\u001b[39m,\n\u001b[0;32m    112\u001b[0m                                                           streamlabel\u001b[38;5;241m=\u001b[39m\u001b[38;5;124m'\u001b[39m\u001b[38;5;124mPupilLabs.Gaze.Data\u001b[39m\u001b[38;5;124m'\u001b[39m,\n\u001b[0;32m    113\u001b[0m                                                           root\u001b[38;5;241m=\u001b[39mroot, autoload\u001b[38;5;241m=\u001b[39mautoload,\n\u001b[0;32m    114\u001b[0m                                                           parent_dataset\u001b[38;5;241m=\u001b[39mparent_dataset)\n\u001b[0;32m    115\u001b[0m streams\u001b[38;5;241m.\u001b[39mPupilLabs\u001b[38;5;241m.\u001b[39mCounter\u001b[38;5;241m.\u001b[39mAudio \u001b[38;5;241m=\u001b[39m             HarpStream(\u001b[38;5;241m213\u001b[39m, device\u001b[38;5;241m=\u001b[39m\u001b[38;5;124m'\u001b[39m\u001b[38;5;124mPupilLabs\u001b[39m\u001b[38;5;124m'\u001b[39m, streamlabel\u001b[38;5;241m=\u001b[39m\u001b[38;5;124m'\u001b[39m\u001b[38;5;124mCounter_Audio\u001b[39m\u001b[38;5;124m'\u001b[39m, root\u001b[38;5;241m=\u001b[39mroot, autoload\u001b[38;5;241m=\u001b[39mautoload, parent_dataset\u001b[38;5;241m=\u001b[39mparent_dataset)\n\u001b[0;32m    116\u001b[0m streams\u001b[38;5;241m.\u001b[39mPupilLabs\u001b[38;5;241m.\u001b[39mCounter\u001b[38;5;241m.\u001b[39mKey \u001b[38;5;241m=\u001b[39m               HarpStream(\u001b[38;5;241m214\u001b[39m, device\u001b[38;5;241m=\u001b[39m\u001b[38;5;124m'\u001b[39m\u001b[38;5;124mPupilLabs\u001b[39m\u001b[38;5;124m'\u001b[39m, streamlabel\u001b[38;5;241m=\u001b[39m\u001b[38;5;124m'\u001b[39m\u001b[38;5;124mCounter_Key\u001b[39m\u001b[38;5;124m'\u001b[39m, root\u001b[38;5;241m=\u001b[39mroot, autoload\u001b[38;5;241m=\u001b[39mautoload, parent_dataset\u001b[38;5;241m=\u001b[39mparent_dataset)\n",
      "\u001b[1;31mNameError\u001b[0m: name 'PupilStream' is not defined"
     ]
    }
   ],
   "source": [
    "stream_root_folder = 'C:/Users/erski/Downloads/Lansing_NorthNatural_sub-OE036001_2023-09-07T161930Z/Lansing_NorthNatural_sub-OE036001_2023-09-07T161930Z/'\n",
    "root = r\"C:/Users/erski/Desktop\"\n",
    "\n",
    "dataset = Dataset(\n",
    "    stream_root_folder,\n",
    "    datasetlabel=\"Example\",\n",
    "    georeference= Georeference(),\n",
    "    schema=outdoor.build_schema)\n",
    "dataset.populate_streams(autoload=False)  # Add the \"schema\" that we want to load to our Dataset. If we want to load the whole dataset automatically, set autoload to True.\n",
    "\n",
    "dataset.reload_streams(force_load=True)  # We will just load every single stream at the same time. This might take a while if loading from AWS\n",
    "dataset.add_georeference_and_calibrate()\n",
    "dataset.export_dataset(filename=f\"{root}\\dataset.pickle\") # We can export the dataset as a .pickle file."
   ]
  },
  {
   "cell_type": "code",
   "execution_count": 5,
   "metadata": {},
   "outputs": [
    {
     "name": "stdout",
     "output_type": "stream",
     "text": [
      "                             Value\n",
      "Seconds                           \n",
      "1904-01-01 00:16:39.906976       0\n",
      "1904-01-01 00:16:39.926976       1\n",
      "1904-01-01 00:16:39.926976       2\n",
      "1904-01-01 00:16:39.926976       3\n",
      "1904-01-01 00:16:39.930976       4\n",
      "...                            ...\n",
      "1904-01-01 00:35:38.808992  220566\n",
      "1904-01-01 00:35:38.818976  220567\n",
      "1904-01-01 00:35:38.818976  220568\n",
      "1904-01-01 00:35:38.824992  220569\n",
      "1904-01-01 00:35:38.828000  220570\n",
      "\n",
      "[220571 rows x 1 columns]\n"
     ]
    }
   ],
   "source": [
    "print(dataset.streams.PupilLabs.Counter.Gaze.data)"
   ]
  }
 ],
 "metadata": {
  "kernelspec": {
   "display_name": "Python 3",
   "language": "python",
   "name": "python3"
  },
  "language_info": {
   "codemirror_mode": {
    "name": "ipython",
    "version": 3
   },
   "file_extension": ".py",
   "mimetype": "text/x-python",
   "name": "python",
   "nbconvert_exporter": "python",
   "pygments_lexer": "ipython3",
   "version": "3.10.10"
  }
 },
 "nbformat": 4,
 "nbformat_minor": 2
}
