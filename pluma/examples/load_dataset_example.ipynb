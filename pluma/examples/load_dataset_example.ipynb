{
 "cells": [
  {
   "cell_type": "code",
   "execution_count": 1,
   "metadata": {},
   "outputs": [],
   "source": [
    "import matplotlib.pyplot as plt\n",
    "import datetime\n",
    "import tilemapbase as tmb\n",
    "import numpy as np\n",
    "import pandas as pd\n",
    "from pluma.stream.georeference import Georeference\n",
    "from pluma.stream.ubx import _UBX_MSGIDS\n",
    "from pluma.schema import Dataset\n",
    "from IPython.display import clear_output\n",
    "from pluma.schema import outdoor\n",
    "\n",
    "## Notebook plotting\n",
    "%matplotlib inline\n",
    "%matplotlib widget\n",
    "\n",
    "plt.style.use('ggplot')\n",
    "\n",
    "## Figure export parameters\n",
    "new_rc_params = {'text.usetex': False,\n",
    "\"svg.fonttype\": 'none'\n",
    "}\n",
    "import matplotlib as mpl\n",
    "mpl.rcParams.update(new_rc_params)"
   ]
  },
  {
   "cell_type": "code",
   "execution_count": 4,
   "metadata": {},
   "outputs": [
    {
     "name": "stderr",
     "output_type": "stream",
     "text": [
      "c:\\users\\erski\\source\\repos\\pluma-analysis\\pluma\\io\\harp.py:44: UserWarning: Harp stream file            @(WIN) --> C:\\Users\\erski\\Downloads\\Lansing_NorthNatural_sub-OE036001_2023-09-07T161930Z\\Lansing_NorthNatural_sub-OE036001_2023-09-07T161930Z\\Streams_33 could not be found.\n",
      "  warnings.warn(f'Harp stream file\\\n",
      "c:\\users\\erski\\source\\repos\\pluma-analysis\\pluma\\io\\harp.py:44: UserWarning: Harp stream file            @(WIN) --> C:\\Users\\erski\\Downloads\\Lansing_NorthNatural_sub-OE036001_2023-09-07T161930Z\\Lansing_NorthNatural_sub-OE036001_2023-09-07T161930Z\\Streams_223 could not be found.\n",
      "  warnings.warn(f'Harp stream file\\\n",
      "c:\\users\\erski\\source\\repos\\pluma-analysis\\pluma\\io\\harp.py:44: UserWarning: Harp stream file            @(WIN) --> C:\\Users\\erski\\Downloads\\Lansing_NorthNatural_sub-OE036001_2023-09-07T161930Z\\Lansing_NorthNatural_sub-OE036001_2023-09-07T161930Z\\Streams_224 could not be found.\n",
      "  warnings.warn(f'Harp stream file\\\n",
      "c:\\users\\erski\\source\\repos\\pluma-analysis\\pluma\\io\\harp.py:44: UserWarning: Harp stream file            @(WIN) --> C:\\Users\\erski\\Downloads\\Lansing_NorthNatural_sub-OE036001_2023-09-07T161930Z\\Lansing_NorthNatural_sub-OE036001_2023-09-07T161930Z\\Streams_225 could not be found.\n",
      "  warnings.warn(f'Harp stream file\\\n",
      "c:\\users\\erski\\source\\repos\\pluma-analysis\\pluma\\io\\harp.py:44: UserWarning: Harp stream file            @(WIN) --> C:\\Users\\erski\\Downloads\\Lansing_NorthNatural_sub-OE036001_2023-09-07T161930Z\\Lansing_NorthNatural_sub-OE036001_2023-09-07T161930Z\\Streams_226 could not be found.\n",
      "  warnings.warn(f'Harp stream file\\\n",
      "c:\\users\\erski\\source\\repos\\pluma-analysis\\pluma\\io\\harp.py:44: UserWarning: Harp stream file            @(WIN) --> C:\\Users\\erski\\Downloads\\Lansing_NorthNatural_sub-OE036001_2023-09-07T161930Z\\Lansing_NorthNatural_sub-OE036001_2023-09-07T161930Z\\Streams_227 could not be found.\n",
      "  warnings.warn(f'Harp stream file\\\n",
      "c:\\users\\erski\\source\\repos\\pluma-analysis\\pluma\\io\\harp.py:44: UserWarning: Harp stream file            @(WIN) --> C:\\Users\\erski\\Downloads\\Lansing_NorthNatural_sub-OE036001_2023-09-07T161930Z\\Lansing_NorthNatural_sub-OE036001_2023-09-07T161930Z\\Streams_228 could not be found.\n",
      "  warnings.warn(f'Harp stream file\\\n",
      "c:\\users\\erski\\source\\repos\\pluma-analysis\\pluma\\io\\harp.py:44: UserWarning: Harp stream file            @(WIN) --> C:\\Users\\erski\\Downloads\\Lansing_NorthNatural_sub-OE036001_2023-09-07T161930Z\\Lansing_NorthNatural_sub-OE036001_2023-09-07T161930Z\\Streams_229 could not be found.\n",
      "  warnings.warn(f'Harp stream file\\\n",
      "c:\\users\\erski\\source\\repos\\pluma-analysis\\pluma\\io\\harp.py:44: UserWarning: Harp stream file            @(WIN) --> C:\\Users\\erski\\Downloads\\Lansing_NorthNatural_sub-OE036001_2023-09-07T161930Z\\Lansing_NorthNatural_sub-OE036001_2023-09-07T161930Z\\Streams_232 could not be found.\n",
      "  warnings.warn(f'Harp stream file\\\n"
     ]
    },
    {
     "name": "stdout",
     "output_type": "stream",
     "text": [
      "@(WIN) --> C:\\Users\\erski\\Downloads\\Lansing_NorthNatural_sub-OE036001_2023-09-07T161930Z\\Lansing_NorthNatural_sub-OE036001_2023-09-07T161930Z\\20230907171924_BenchmarkPupil.nedf\n",
      "Reading file...\n",
      "Header information has been correctly retrieved.\n",
      "Attempting to automatically correct eeg timestamps to harp timestamps...\n",
      "Done.\n"
     ]
    },
    {
     "name": "stderr",
     "output_type": "stream",
     "text": [
      "c:\\users\\erski\\source\\repos\\pluma-analysis\\pluma\\io\\harp.py:44: UserWarning: Harp stream file            @(WIN) --> C:\\Users\\erski\\Downloads\\Lansing_NorthNatural_sub-OE036001_2023-09-07T161930Z\\Lansing_NorthNatural_sub-OE036001_2023-09-07T161930Z\\Streams_211 could not be found.\n",
      "  warnings.warn(f'Harp stream file\\\n",
      "c:\\users\\erski\\source\\repos\\pluma-analysis\\pluma\\io\\harp.py:44: UserWarning: Harp stream file            @(WIN) --> C:\\Users\\erski\\Downloads\\Lansing_NorthNatural_sub-OE036001_2023-09-07T161930Z\\Lansing_NorthNatural_sub-OE036001_2023-09-07T161930Z\\Streams_213 could not be found.\n",
      "  warnings.warn(f'Harp stream file\\\n",
      "c:\\users\\erski\\source\\repos\\pluma-analysis\\pluma\\io\\harp.py:44: UserWarning: Harp stream file            @(WIN) --> C:\\Users\\erski\\Downloads\\Lansing_NorthNatural_sub-OE036001_2023-09-07T161930Z\\Lansing_NorthNatural_sub-OE036001_2023-09-07T161930Z\\Streams_214 could not be found.\n",
      "  warnings.warn(f'Harp stream file\\\n",
      "Traceback (most recent call last):\n",
      "  File \"_pydevd_bundle/pydevd_cython.pyx\", line 1078, in _pydevd_bundle.pydevd_cython.PyDBFrame.trace_dispatch\n",
      "  File \"_pydevd_bundle/pydevd_cython.pyx\", line 297, in _pydevd_bundle.pydevd_cython.PyDBFrame.do_wait_suspend\n",
      "  File \"c:\\Users\\erski\\source\\repos\\pluma-analysis\\.conda\\lib\\site-packages\\debugpy\\_vendored\\pydevd\\pydevd.py\", line 1976, in do_wait_suspend\n",
      "    keep_suspended = self._do_wait_suspend(thread, frame, event, arg, suspend_type, from_this_thread, frames_tracker)\n",
      "  File \"c:\\Users\\erski\\source\\repos\\pluma-analysis\\.conda\\lib\\site-packages\\debugpy\\_vendored\\pydevd\\pydevd.py\", line 2011, in _do_wait_suspend\n",
      "    time.sleep(0.01)\n",
      "KeyboardInterrupt\n"
     ]
    },
    {
     "ename": "KeyboardInterrupt",
     "evalue": "",
     "output_type": "error",
     "traceback": [
      "\u001b[1;31m---------------------------------------------------------------------------\u001b[0m",
      "\u001b[1;31mKeyboardInterrupt\u001b[0m                         Traceback (most recent call last)",
      "Cell \u001b[1;32mIn[4], line 11\u001b[0m\n\u001b[0;32m      4\u001b[0m dataset \u001b[38;5;241m=\u001b[39m Dataset(\n\u001b[0;32m      5\u001b[0m     stream_root_folder,\n\u001b[0;32m      6\u001b[0m     datasetlabel\u001b[38;5;241m=\u001b[39m\u001b[38;5;124m\"\u001b[39m\u001b[38;5;124mExample\u001b[39m\u001b[38;5;124m\"\u001b[39m,\n\u001b[0;32m      7\u001b[0m     georeference\u001b[38;5;241m=\u001b[39m Georeference(),\n\u001b[0;32m      8\u001b[0m     schema\u001b[38;5;241m=\u001b[39moutdoor\u001b[38;5;241m.\u001b[39mbuild_schema)\n\u001b[0;32m      9\u001b[0m dataset\u001b[38;5;241m.\u001b[39mpopulate_streams(autoload\u001b[38;5;241m=\u001b[39m\u001b[38;5;28;01mFalse\u001b[39;00m)  \u001b[38;5;66;03m# Add the \"schema\" that we want to load to our Dataset. If we want to load the whole dataset automatically, set autoload to True.\u001b[39;00m\n\u001b[1;32m---> 11\u001b[0m \u001b[43mdataset\u001b[49m\u001b[38;5;241;43m.\u001b[39;49m\u001b[43mreload_streams\u001b[49m\u001b[43m(\u001b[49m\u001b[43mforce_load\u001b[49m\u001b[38;5;241;43m=\u001b[39;49m\u001b[38;5;28;43;01mTrue\u001b[39;49;00m\u001b[43m)\u001b[49m  \u001b[38;5;66;03m# We will just load every single stream at the same time. This might take a while if loading from AWS\u001b[39;00m\n\u001b[0;32m     12\u001b[0m dataset\u001b[38;5;241m.\u001b[39madd_georeference_and_calibrate()\n\u001b[0;32m     13\u001b[0m dataset\u001b[38;5;241m.\u001b[39mexport_dataset(filename\u001b[38;5;241m=\u001b[39m\u001b[38;5;124mf\u001b[39m\u001b[38;5;124m\"\u001b[39m\u001b[38;5;132;01m{\u001b[39;00mroot\u001b[38;5;132;01m}\u001b[39;00m\u001b[38;5;124m\\\u001b[39m\u001b[38;5;124mdataset.pickle\u001b[39m\u001b[38;5;124m\"\u001b[39m) \u001b[38;5;66;03m# We can export the dataset as a .pickle file.\u001b[39;00m\n",
      "File \u001b[1;32mc:\\users\\erski\\source\\repos\\pluma-analysis\\pluma\\schema\\__init__.py:111\u001b[0m, in \u001b[0;36mDataset.reload_streams\u001b[1;34m(self, schema, force_load)\u001b[0m\n\u001b[0;32m    109\u001b[0m \u001b[38;5;28;01melif\u001b[39;00m \u001b[38;5;28misinstance\u001b[39m(schema, DotMap):\n\u001b[0;32m    110\u001b[0m     \u001b[38;5;28;01mfor\u001b[39;00m _stream \u001b[38;5;129;01min\u001b[39;00m schema\u001b[38;5;241m.\u001b[39mvalues():\n\u001b[1;32m--> 111\u001b[0m         \u001b[38;5;28;43mself\u001b[39;49m\u001b[38;5;241;43m.\u001b[39;49m\u001b[43mreload_streams\u001b[49m\u001b[43m(\u001b[49m\u001b[43m_stream\u001b[49m\u001b[43m,\u001b[49m\u001b[43m \u001b[49m\u001b[43mforce_load\u001b[49m\u001b[38;5;241;43m=\u001b[39;49m\u001b[43mforce_load\u001b[49m\u001b[43m)\u001b[49m\n\u001b[0;32m    112\u001b[0m \u001b[38;5;28;01melse\u001b[39;00m:\n\u001b[0;32m    113\u001b[0m     \u001b[38;5;28;01mraise\u001b[39;00m \u001b[38;5;167;01mTypeError\u001b[39;00m(\u001b[38;5;124mf\u001b[39m\u001b[38;5;124m\"\u001b[39m\u001b[38;5;124mInvalid type was found. Must be of \u001b[39m\u001b[38;5;130;01m\\\u001b[39;00m\n\u001b[0;32m    114\u001b[0m \u001b[38;5;124m                    \u001b[39m\u001b[38;5;132;01m{\u001b[39;00mUnion[DotMap,\u001b[38;5;250m \u001b[39mStream]\u001b[38;5;132;01m}\u001b[39;00m\u001b[38;5;124m\"\u001b[39m)\n",
      "File \u001b[1;32mc:\\users\\erski\\source\\repos\\pluma-analysis\\pluma\\schema\\__init__.py:111\u001b[0m, in \u001b[0;36mDataset.reload_streams\u001b[1;34m(self, schema, force_load)\u001b[0m\n\u001b[0;32m    109\u001b[0m \u001b[38;5;28;01melif\u001b[39;00m \u001b[38;5;28misinstance\u001b[39m(schema, DotMap):\n\u001b[0;32m    110\u001b[0m     \u001b[38;5;28;01mfor\u001b[39;00m _stream \u001b[38;5;129;01min\u001b[39;00m schema\u001b[38;5;241m.\u001b[39mvalues():\n\u001b[1;32m--> 111\u001b[0m         \u001b[38;5;28;43mself\u001b[39;49m\u001b[38;5;241;43m.\u001b[39;49m\u001b[43mreload_streams\u001b[49m\u001b[43m(\u001b[49m\u001b[43m_stream\u001b[49m\u001b[43m,\u001b[49m\u001b[43m \u001b[49m\u001b[43mforce_load\u001b[49m\u001b[38;5;241;43m=\u001b[39;49m\u001b[43mforce_load\u001b[49m\u001b[43m)\u001b[49m\n\u001b[0;32m    112\u001b[0m \u001b[38;5;28;01melse\u001b[39;00m:\n\u001b[0;32m    113\u001b[0m     \u001b[38;5;28;01mraise\u001b[39;00m \u001b[38;5;167;01mTypeError\u001b[39;00m(\u001b[38;5;124mf\u001b[39m\u001b[38;5;124m\"\u001b[39m\u001b[38;5;124mInvalid type was found. Must be of \u001b[39m\u001b[38;5;130;01m\\\u001b[39;00m\n\u001b[0;32m    114\u001b[0m \u001b[38;5;124m                    \u001b[39m\u001b[38;5;132;01m{\u001b[39;00mUnion[DotMap,\u001b[38;5;250m \u001b[39mStream]\u001b[38;5;132;01m}\u001b[39;00m\u001b[38;5;124m\"\u001b[39m)\n",
      "File \u001b[1;32mc:\\users\\erski\\source\\repos\\pluma-analysis\\pluma\\schema\\__init__.py:111\u001b[0m, in \u001b[0;36mDataset.reload_streams\u001b[1;34m(self, schema, force_load)\u001b[0m\n\u001b[0;32m    109\u001b[0m \u001b[38;5;28;01melif\u001b[39;00m \u001b[38;5;28misinstance\u001b[39m(schema, DotMap):\n\u001b[0;32m    110\u001b[0m     \u001b[38;5;28;01mfor\u001b[39;00m _stream \u001b[38;5;129;01min\u001b[39;00m schema\u001b[38;5;241m.\u001b[39mvalues():\n\u001b[1;32m--> 111\u001b[0m         \u001b[38;5;28;43mself\u001b[39;49m\u001b[38;5;241;43m.\u001b[39;49m\u001b[43mreload_streams\u001b[49m\u001b[43m(\u001b[49m\u001b[43m_stream\u001b[49m\u001b[43m,\u001b[49m\u001b[43m \u001b[49m\u001b[43mforce_load\u001b[49m\u001b[38;5;241;43m=\u001b[39;49m\u001b[43mforce_load\u001b[49m\u001b[43m)\u001b[49m\n\u001b[0;32m    112\u001b[0m \u001b[38;5;28;01melse\u001b[39;00m:\n\u001b[0;32m    113\u001b[0m     \u001b[38;5;28;01mraise\u001b[39;00m \u001b[38;5;167;01mTypeError\u001b[39;00m(\u001b[38;5;124mf\u001b[39m\u001b[38;5;124m\"\u001b[39m\u001b[38;5;124mInvalid type was found. Must be of \u001b[39m\u001b[38;5;130;01m\\\u001b[39;00m\n\u001b[0;32m    114\u001b[0m \u001b[38;5;124m                    \u001b[39m\u001b[38;5;132;01m{\u001b[39;00mUnion[DotMap,\u001b[38;5;250m \u001b[39mStream]\u001b[38;5;132;01m}\u001b[39;00m\u001b[38;5;124m\"\u001b[39m)\n",
      "File \u001b[1;32mc:\\users\\erski\\source\\repos\\pluma-analysis\\pluma\\schema\\__init__.py:105\u001b[0m, in \u001b[0;36mDataset.reload_streams\u001b[1;34m(self, schema, force_load)\u001b[0m\n\u001b[0;32m    103\u001b[0m \u001b[38;5;28;01mif\u001b[39;00m \u001b[38;5;28misinstance\u001b[39m(schema, Stream):\n\u001b[0;32m    104\u001b[0m     \u001b[38;5;28;01mif\u001b[39;00m force_load \u001b[38;5;129;01mis\u001b[39;00m \u001b[38;5;28;01mTrue\u001b[39;00m:\n\u001b[1;32m--> 105\u001b[0m         \u001b[43mschema\u001b[49m\u001b[38;5;241;43m.\u001b[39;49m\u001b[43mload\u001b[49m\u001b[43m(\u001b[49m\u001b[43m)\u001b[49m\n\u001b[0;32m    106\u001b[0m     \u001b[38;5;28;01melse\u001b[39;00m:\n\u001b[0;32m    107\u001b[0m         \u001b[38;5;28;01mif\u001b[39;00m schema\u001b[38;5;241m.\u001b[39mautoload \u001b[38;5;129;01mis\u001b[39;00m \u001b[38;5;28;01mTrue\u001b[39;00m:\n",
      "File \u001b[1;32mc:\\users\\erski\\source\\repos\\pluma-analysis\\pluma\\stream\\pupil.py:30\u001b[0m, in \u001b[0;36mPupilStream.load\u001b[1;34m(self)\u001b[0m\n\u001b[0;32m     29\u001b[0m \u001b[38;5;28;01mdef\u001b[39;00m \u001b[38;5;21mload\u001b[39m(\u001b[38;5;28mself\u001b[39m):\n\u001b[1;32m---> 30\u001b[0m     \u001b[38;5;28mself\u001b[39m\u001b[38;5;241m.\u001b[39mdata \u001b[38;5;241m=\u001b[39m \u001b[43mload_pupil\u001b[49m(\u001b[38;5;28mself\u001b[39m\u001b[38;5;241m.\u001b[39mfilename, \u001b[38;5;28mself\u001b[39m\u001b[38;5;241m.\u001b[39mdtypes, root\u001b[38;5;241m=\u001b[39m\u001b[38;5;28mself\u001b[39m\u001b[38;5;241m.\u001b[39mrootfolder)\n",
      "File \u001b[1;32mc:\\users\\erski\\source\\repos\\pluma-analysis\\pluma\\stream\\pupil.py:30\u001b[0m, in \u001b[0;36mPupilStream.load\u001b[1;34m(self)\u001b[0m\n\u001b[0;32m     29\u001b[0m \u001b[38;5;28;01mdef\u001b[39;00m \u001b[38;5;21mload\u001b[39m(\u001b[38;5;28mself\u001b[39m):\n\u001b[1;32m---> 30\u001b[0m     \u001b[38;5;28mself\u001b[39m\u001b[38;5;241m.\u001b[39mdata \u001b[38;5;241m=\u001b[39m \u001b[43mload_pupil\u001b[49m(\u001b[38;5;28mself\u001b[39m\u001b[38;5;241m.\u001b[39mfilename, \u001b[38;5;28mself\u001b[39m\u001b[38;5;241m.\u001b[39mdtypes, root\u001b[38;5;241m=\u001b[39m\u001b[38;5;28mself\u001b[39m\u001b[38;5;241m.\u001b[39mrootfolder)\n",
      "File \u001b[1;32m_pydevd_bundle/pydevd_cython.pyx:1363\u001b[0m, in \u001b[0;36m_pydevd_bundle.pydevd_cython.SafeCallWrapper.__call__\u001b[1;34m()\u001b[0m\n",
      "File \u001b[1;32m_pydevd_bundle/pydevd_cython.pyx:662\u001b[0m, in \u001b[0;36m_pydevd_bundle.pydevd_cython.PyDBFrame.trace_dispatch\u001b[1;34m()\u001b[0m\n",
      "File \u001b[1;32m_pydevd_bundle/pydevd_cython.pyx:1087\u001b[0m, in \u001b[0;36m_pydevd_bundle.pydevd_cython.PyDBFrame.trace_dispatch\u001b[1;34m()\u001b[0m\n",
      "File \u001b[1;32m_pydevd_bundle/pydevd_cython.pyx:1078\u001b[0m, in \u001b[0;36m_pydevd_bundle.pydevd_cython.PyDBFrame.trace_dispatch\u001b[1;34m()\u001b[0m\n",
      "File \u001b[1;32m_pydevd_bundle/pydevd_cython.pyx:297\u001b[0m, in \u001b[0;36m_pydevd_bundle.pydevd_cython.PyDBFrame.do_wait_suspend\u001b[1;34m()\u001b[0m\n",
      "File \u001b[1;32mc:\\Users\\erski\\source\\repos\\pluma-analysis\\.conda\\lib\\site-packages\\debugpy\\_vendored\\pydevd\\pydevd.py:1976\u001b[0m, in \u001b[0;36mPyDB.do_wait_suspend\u001b[1;34m(self, thread, frame, event, arg, exception_type)\u001b[0m\n\u001b[0;32m   1973\u001b[0m             from_this_thread\u001b[38;5;241m.\u001b[39mappend(frame_custom_thread_id)\n\u001b[0;32m   1975\u001b[0m     \u001b[38;5;28;01mwith\u001b[39;00m \u001b[38;5;28mself\u001b[39m\u001b[38;5;241m.\u001b[39m_threads_suspended_single_notification\u001b[38;5;241m.\u001b[39mnotify_thread_suspended(thread_id, stop_reason):\n\u001b[1;32m-> 1976\u001b[0m         keep_suspended \u001b[38;5;241m=\u001b[39m \u001b[38;5;28;43mself\u001b[39;49m\u001b[38;5;241;43m.\u001b[39;49m\u001b[43m_do_wait_suspend\u001b[49m\u001b[43m(\u001b[49m\u001b[43mthread\u001b[49m\u001b[43m,\u001b[49m\u001b[43m \u001b[49m\u001b[43mframe\u001b[49m\u001b[43m,\u001b[49m\u001b[43m \u001b[49m\u001b[43mevent\u001b[49m\u001b[43m,\u001b[49m\u001b[43m \u001b[49m\u001b[43marg\u001b[49m\u001b[43m,\u001b[49m\u001b[43m \u001b[49m\u001b[43msuspend_type\u001b[49m\u001b[43m,\u001b[49m\u001b[43m \u001b[49m\u001b[43mfrom_this_thread\u001b[49m\u001b[43m,\u001b[49m\u001b[43m \u001b[49m\u001b[43mframes_tracker\u001b[49m\u001b[43m)\u001b[49m\n\u001b[0;32m   1978\u001b[0m frames_list \u001b[38;5;241m=\u001b[39m \u001b[38;5;28;01mNone\u001b[39;00m\n\u001b[0;32m   1980\u001b[0m \u001b[38;5;28;01mif\u001b[39;00m keep_suspended:\n\u001b[0;32m   1981\u001b[0m     \u001b[38;5;66;03m# This means that we should pause again after a set next statement.\u001b[39;00m\n",
      "File \u001b[1;32mc:\\Users\\erski\\source\\repos\\pluma-analysis\\.conda\\lib\\site-packages\\debugpy\\_vendored\\pydevd\\pydevd.py:2011\u001b[0m, in \u001b[0;36mPyDB._do_wait_suspend\u001b[1;34m(self, thread, frame, event, arg, suspend_type, from_this_thread, frames_tracker)\u001b[0m\n\u001b[0;32m   2008\u001b[0m         \u001b[38;5;28mself\u001b[39m\u001b[38;5;241m.\u001b[39m_call_mpl_hook()\n\u001b[0;32m   2010\u001b[0m     \u001b[38;5;28mself\u001b[39m\u001b[38;5;241m.\u001b[39mprocess_internal_commands()\n\u001b[1;32m-> 2011\u001b[0m     \u001b[43mtime\u001b[49m\u001b[38;5;241;43m.\u001b[39;49m\u001b[43msleep\u001b[49m\u001b[43m(\u001b[49m\u001b[38;5;241;43m0.01\u001b[39;49m\u001b[43m)\u001b[49m\n\u001b[0;32m   2013\u001b[0m \u001b[38;5;28mself\u001b[39m\u001b[38;5;241m.\u001b[39mcancel_async_evaluation(get_current_thread_id(thread), \u001b[38;5;28mstr\u001b[39m(\u001b[38;5;28mid\u001b[39m(frame)))\n\u001b[0;32m   2015\u001b[0m \u001b[38;5;66;03m# process any stepping instructions\u001b[39;00m\n",
      "\u001b[1;31mKeyboardInterrupt\u001b[0m: "
     ]
    }
   ],
   "source": [
    "stream_root_folder = 'C:/Users/erski/Downloads/Lansing_NorthNatural_sub-OE036001_2023-09-07T161930Z/Lansing_NorthNatural_sub-OE036001_2023-09-07T161930Z/'\n",
    "root = r\"C:/Users/erski/Desktop\"\n",
    "\n",
    "dataset = Dataset(\n",
    "    stream_root_folder,\n",
    "    datasetlabel=\"Example\",\n",
    "    georeference= Georeference(),\n",
    "    schema=outdoor.build_schema)\n",
    "dataset.populate_streams(autoload=False)  # Add the \"schema\" that we want to load to our Dataset. If we want to load the whole dataset automatically, set autoload to True.\n",
    "\n",
    "dataset.reload_streams(force_load=True)  # We will just load every single stream at the same time. This might take a while if loading from AWS\n",
    "dataset.add_georeference_and_calibrate()\n",
    "dataset.export_dataset(filename=f\"{root}\\dataset.pickle\") # We can export the dataset as a .pickle file."
   ]
  },
  {
   "cell_type": "code",
   "execution_count": 5,
   "metadata": {},
   "outputs": [
    {
     "name": "stdout",
     "output_type": "stream",
     "text": [
      "                             Value\n",
      "Seconds                           \n",
      "1904-01-01 00:16:39.906976       0\n",
      "1904-01-01 00:16:39.926976       1\n",
      "1904-01-01 00:16:39.926976       2\n",
      "1904-01-01 00:16:39.926976       3\n",
      "1904-01-01 00:16:39.930976       4\n",
      "...                            ...\n",
      "1904-01-01 00:35:38.808992  220566\n",
      "1904-01-01 00:35:38.818976  220567\n",
      "1904-01-01 00:35:38.818976  220568\n",
      "1904-01-01 00:35:38.824992  220569\n",
      "1904-01-01 00:35:38.828000  220570\n",
      "\n",
      "[220571 rows x 1 columns]\n"
     ]
    }
   ],
   "source": [
    "print(dataset.streams.PupilLabs.Counter.Gaze.data)"
   ]
  }
 ],
 "metadata": {
  "kernelspec": {
   "display_name": "Python 3",
   "language": "python",
   "name": "python3"
  },
  "language_info": {
   "codemirror_mode": {
    "name": "ipython",
    "version": 3
   },
   "file_extension": ".py",
   "mimetype": "text/x-python",
   "name": "python",
   "nbconvert_exporter": "python",
   "pygments_lexer": "ipython3",
   "version": "3.10.10"
  }
 },
 "nbformat": 4,
 "nbformat_minor": 2
}
